{
 "cells": [
  {
   "cell_type": "markdown",
   "id": "b0b8cc07-55c6-4269-9d2d-9c05540013d4",
   "metadata": {},
   "source": [
    "# String encoding"
   ]
  },
  {
   "cell_type": "code",
   "execution_count": 1,
   "id": "ab82b8b8-d4e3-4d38-abe2-0b469cf491e0",
   "metadata": {
    "tags": []
   },
   "outputs": [],
   "source": [
    "import xarray as xr\n",
    "import numpy as np\n",
    "import warnings"
   ]
  },
  {
   "cell_type": "code",
   "execution_count": 2,
   "id": "02b2b42f-bc31-4757-9aa3-4d89740c2f68",
   "metadata": {
    "tags": []
   },
   "outputs": [],
   "source": [
    "!rm *.nc"
   ]
  },
  {
   "cell_type": "markdown",
   "id": "c4444506-3ced-4a74-bc71-4b54a7b215c4",
   "metadata": {},
   "source": [
    "## How should xarray serialize bytes/unicode strings across Python/netCDF versions? \n",
    "https://github.com/pydata/xarray/issues/2059\n",
    "\n",
    "Related:\n",
    "\n",
    "- Round trip converts text attributes to strings https://github.com/Unidata/netcdf4-python/issues/529\n",
    "- to_netcdf() to automatically switch to fixed-length strings for compressed variables https://github.com/pydata/xarray/issues/2040"
   ]
  },
  {
   "cell_type": "code",
   "execution_count": 19,
   "id": "0d21f951-82c4-4517-971e-37381bf674fe",
   "metadata": {
    "tags": []
   },
   "outputs": [
    {
     "data": {
      "text/plain": [
       "mappingproxy({'_Encoding': 'ascii'})"
      ]
     },
     "execution_count": 19,
     "metadata": {},
     "output_type": "execute_result"
    }
   ],
   "source": [
    "dt = np.dtype(object, metadata={\"_Encoding\": \"ascii\"})\n",
    "s = np.array([\"abc\"], dtype=dt)\n",
    "s.dtype.metadata"
   ]
  },
  {
   "cell_type": "code",
   "execution_count": 16,
   "id": "e03f7061-e2e0-41f6-9bf9-cd3254b24489",
   "metadata": {
    "tags": []
   },
   "outputs": [
    {
     "name": "stdout",
     "output_type": "stream",
     "text": [
      "object\n"
     ]
    }
   ],
   "source": [
    "print(s.dtype.name)"
   ]
  },
  {
   "cell_type": "code",
   "execution_count": 5,
   "id": "dd0fd705-25c4-4399-b04b-0907840770e4",
   "metadata": {
    "tags": []
   },
   "outputs": [
    {
     "name": "stdout",
     "output_type": "stream",
     "text": [
      "| Python version | NetCDF version | NumPy datatype | NumPy datatype (xarray) | NetCDF datatype | Numpy datatype (read) |\n",
      "| --- | --- | --- | --- | --- | --- |\n",
      "| Python 3 | NETCDF4_CLASSIC | np.string_ / bytes | |S3 S | NC_CHAR | \\|S3 |\n",
      "| Python 3 | NETCDF4 | np.string_ / bytes | |S3 S | NC_CHAR | \\|S3 |\n",
      "| Python 3 | NETCDF4_CLASSIC | np.unicode_ / str | <U3 U | NC_CHAR with UTF-8 encoding | \\object |\n",
      "| Python 3 | NETCDF4 | np.unicode_ / str | <U3 U | NC_STRING | \\<U3 |\n",
      "| Python 3 | NETCDF4_CLASSIC | object bytes/bytes | object O | NC_CHAR | \\|S3 |\n",
      "| Python 3 | NETCDF4 | object bytes/bytes | object O | NC_CHAR | \\|S3 |\n",
      "| Python 3 | NETCDF4_CLASSIC | object unicode/str | object O | NC_CHAR with UTF-8 encoding | \\object |\n",
      "| Python 3 | NETCDF4 | object unicode/str | object O | NC_STRING | \\<U3 |\n"
     ]
    }
   ],
   "source": [
    "from __future__ import print_function\n",
    "import xarray as xr\n",
    "import uuid\n",
    "import netCDF4\n",
    "import numpy as np\n",
    "import sys\n",
    "\n",
    "print(\n",
    "    \"| Python version | NetCDF version | NumPy datatype | NumPy datatype (xarray) | NetCDF datatype | Numpy datatype (read) |\"\n",
    ")\n",
    "print(\"| --- | --- | --- | --- | --- | --- |\")\n",
    "for i, (dtype_name, value) in enumerate(\n",
    "    [\n",
    "        (\"np.string_ / \" + type(b\"\").__name__, np.array([b\"abc\"])),\n",
    "        (\"np.unicode_ / \" + type(\"\").__name__, np.array([\"abc\"])),\n",
    "        (\"object bytes/\" + type(b\"\").__name__, np.array([b\"abc\"], dtype=object)),\n",
    "        (\"object unicode/\" + type(\"\").__name__, np.array([\"abc\"], dtype=object)),\n",
    "    ]\n",
    "):\n",
    "    src_dtype = value.dtype\n",
    "    src_dtype_kind = src_dtype.kind\n",
    "    for format in [\"NETCDF4_CLASSIC\", \"NETCDF4\"]:\n",
    "        filename = f\"test-2059-{format}-{i}.nc\"\n",
    "        ds = xr.Dataset({\"data\": xr.DataArray(data=value)})\n",
    "        ds.to_netcdf(filename, engine=\"netcdf4\", format=format)\n",
    "        with netCDF4.Dataset(filename) as f:\n",
    "            var = f.variables[\"data\"]\n",
    "            disk_dtype = var.dtype\n",
    "            has_encoding = hasattr(var, \"_Encoding\")\n",
    "        with xr.open_dataset(filename) as ds:\n",
    "            read_dtype = ds[\"data\"].dtype\n",
    "        disk_dtype_name = (\"NC_CHAR\" if disk_dtype == \"S1\" else \"NC_STRING\") + (\n",
    "            \" with UTF-8 encoding\" if has_encoding else \"\"\n",
    "        )\n",
    "        print(\n",
    "            \"|\",\n",
    "            \"Python %i\" % sys.version_info[0],\n",
    "            \"|\",\n",
    "            format,\n",
    "            \"|\",\n",
    "            dtype_name,\n",
    "            \"|\",\n",
    "            src_dtype,\n",
    "            src_dtype_kind,\n",
    "            \"|\",\n",
    "            disk_dtype_name,\n",
    "            \"|\",\n",
    "            f\"\\{read_dtype}\",\n",
    "            \"|\",\n",
    "        )"
   ]
  },
  {
   "cell_type": "markdown",
   "id": "cbcd1840-1837-4ad7-83ab-916101b4f0d8",
   "metadata": {},
   "source": [
    "| Python version | NetCDF version | NumPy datatype | NumPy datatype (xarray) | NetCDF datatype | Numpy datatype (read) |\n",
    "| --- | --- | --- | --- | --- | --- |\n",
    "| Python 3 | NETCDF4_CLASSIC | np.string_ / bytes | \\|S3 | NC_CHAR | \\|S3 |\n",
    "| Python 3 | NETCDF4 | np.string_ / bytes | \\|S3 | NC_CHAR | \\|S3 |\n",
    "| Python 3 | NETCDF4_CLASSIC | np.unicode_ / str | <U3 | NC_CHAR with UTF-8 encoding | object |\n",
    "| Python 3 | NETCDF4 | np.unicode_ / str | <U3 | NC_STRING | \\<U3 |\n",
    "| Python 3 | NETCDF4_CLASSIC | object bytes/bytes | object | NC_CHAR | \\|S3 |\n",
    "| Python 3 | NETCDF4 | object bytes/bytes | object | NC_CHAR | \\|S3 |\n",
    "| Python 3 | NETCDF4_CLASSIC | object unicode/str | object | NC_CHAR with UTF-8 encoding | object |\n",
    "| Python 3 | NETCDF4 | object unicode/str | object | NC_STRING | \\<U3 |"
   ]
  },
  {
   "cell_type": "code",
   "execution_count": null,
   "id": "db5b6563-1b65-481c-8ab9-7be148564ff5",
   "metadata": {
    "tags": []
   },
   "outputs": [],
   "source": [
    "def encode_nc3_variable(var):\n",
    "    for coder in [\n",
    "        xr.coding.strings.EncodedStringCoder(allows_unicode=False),\n",
    "        xr.coding.strings.CharacterArrayCoder(),\n",
    "    ]:\n",
    "        var = coder.encode(var)\n",
    "    data = xr.backends.netcdf3.coerce_nc3_dtype(var.data)\n",
    "    attrs = xr.backends.netcdf3.encode_nc3_attrs(var.attrs)\n",
    "    return xr.Variable(var.dims, data, attrs, var.encoding)"
   ]
  },
  {
   "cell_type": "code",
   "execution_count": null,
   "id": "add0cbeb-c5bd-4d7e-ac6b-10b7cc68eaa8",
   "metadata": {
    "tags": []
   },
   "outputs": [],
   "source": [
    "var.values\n",
    "x = np.array([[\"a\", \"b\", \"c\"]], dtype=\"|S1\")\n",
    "var"
   ]
  },
  {
   "cell_type": "code",
   "execution_count": null,
   "id": "cbc47b96-fce6-4c7a-b5a2-ab048175864f",
   "metadata": {
    "tags": []
   },
   "outputs": [],
   "source": [
    "value = np.array([\"abc\"])\n",
    "ds = xr.Dataset({\"data\": xr.DataArray(data=value)})\n",
    "# var = ds[\"data\"].variable\n",
    "# print(\"################\")\n",
    "# print(var)\n",
    "# var = encode_nc3_variable(var)\n",
    "# print(\"################\")\n",
    "# var.attrs[\"_Encoding\"] = \"utf-8\"\n",
    "# print(var)\n",
    "# print(\"################\")\n",
    "# ds[\"data\"] = var\n",
    "filename = \"test_string.nc\"\n",
    "ds.to_netcdf(filename, engine=\"netcdf4\", format=\"NETCDF4_CLASSIC\")\n",
    "!h5dump test_string.nc"
   ]
  },
  {
   "cell_type": "code",
   "execution_count": null,
   "id": "bdd0c1f3-8f95-4e08-9bdf-90efec2f44bd",
   "metadata": {
    "tags": []
   },
   "outputs": [],
   "source": [
    "!ncdump test-2059-NETCDF4-0-0.nc"
   ]
  },
  {
   "cell_type": "code",
   "execution_count": null,
   "id": "4baf9c73-7eb0-4f9f-a07b-955840f8bc47",
   "metadata": {
    "tags": []
   },
   "outputs": [],
   "source": [
    "#!h5dump --help"
   ]
  },
  {
   "cell_type": "code",
   "execution_count": null,
   "id": "0c932a00-b577-43cc-a2fd-7a9d3e1f2ac6",
   "metadata": {
    "tags": []
   },
   "outputs": [],
   "source": [
    "!h5dump test-2059-NETCDF4-0.nc\n",
    "!h5dump test-2059-NETCDF4-1.nc\n",
    "!h5dump test-2059-NETCDF4-2.nc\n",
    "!h5dump test-2059-NETCDF4-3.nc"
   ]
  },
  {
   "cell_type": "code",
   "execution_count": null,
   "id": "ea37c518-1a30-4733-b24d-cefc2e0e7739",
   "metadata": {
    "tags": []
   },
   "outputs": [],
   "source": [
    "!h5dump -A 0 -d data test-2059-NETCDF4-1.nc"
   ]
  },
  {
   "cell_type": "code",
   "execution_count": null,
   "id": "7327e176-5ad3-4fe4-b17f-cfb3b1fe86d4",
   "metadata": {
    "tags": []
   },
   "outputs": [],
   "source": [
    "!ncdump test-2059-NETCDF4-3.nc"
   ]
  },
  {
   "cell_type": "markdown",
   "id": "7a3d894d-40bf-4138-b46e-b9524c3a83bc",
   "metadata": {
    "tags": []
   },
   "source": [
    "## Representing missing values in string arrays on disk\n",
    "\n",
    "https://github.com/pydata/xarray/issues/1647"
   ]
  },
  {
   "cell_type": "markdown",
   "id": "686f323b-6ac2-43c0-8c5c-ffbf054fc94a",
   "metadata": {},
   "source": [
    "## Attributes encoding compatibility between backends\n",
    "\n",
    "https://github.com/pydata/xarray/issues/5226"
   ]
  },
  {
   "cell_type": "code",
   "execution_count": null,
   "id": "346c033f-b521-4d9c-8215-7658d454b074",
   "metadata": {
    "tags": []
   },
   "outputs": [],
   "source": [
    "import xarray as xr\n",
    "import zarr\n",
    "\n",
    "g = zarr.group()\n",
    "g.create(\"arr\", shape=3, fill_value=\"z\", dtype=\"<U1\")\n",
    "g[\"arr\"].attrs[\"_ARRAY_DIMENSIONS\"] = \"dim_1\"\n",
    "\n",
    "# -- without masking fill values\n",
    "ds = xr.open_zarr(g.store, mask_and_scale=False)\n",
    "\n",
    "ds.arr.attrs  # returns {'_FillValue': 'z'}\n",
    "\n",
    "# error: netCDF4 does not yet support setting a fill value for variable-length strings\n",
    "ds.to_netcdf(\"test-5226-01.nc\")\n",
    "\n",
    "# -- with masking fill values\n",
    "ds2 = xr.open_zarr(g.store, mask_and_scale=True)\n",
    "\n",
    "# returns a dict that includes item _FillValue': 'z'\n",
    "ds2.arr.encoding\n",
    "\n",
    "# same error than above\n",
    "ds2.to_netcdf(\"test-5226-02.nc\")"
   ]
  },
  {
   "cell_type": "markdown",
   "id": "9fe5da65-ce3b-45da-91cb-9f3176b52348",
   "metadata": {
    "tags": []
   },
   "source": [
    "## Make an xarray with an array of strings"
   ]
  },
  {
   "cell_type": "code",
   "execution_count": null,
   "id": "8dcdfb65-251d-4618-aad4-365236b736a5",
   "metadata": {
    "tags": []
   },
   "outputs": [],
   "source": [
    "dtype = None\n",
    "data = np.array([[\"a\", \"b\"], [\"c\", \"d\"]], dtype=dtype)\n",
    "print(data.dtype)\n",
    "da = xr.DataArray(\n",
    "    data=data,\n",
    "    dims=[\"x\", \"y\"],\n",
    "    coords={\"x\": [0, 1], \"y\": [0, 1]},\n",
    ")\n",
    "da.name = \"strarr\"\n",
    "display(da)"
   ]
  },
  {
   "cell_type": "markdown",
   "id": "a729cef2-418f-42e2-906c-5c6256c47f29",
   "metadata": {},
   "source": [
    "### Write to engines with default values"
   ]
  },
  {
   "cell_type": "code",
   "execution_count": null,
   "id": "a1f235b9-7843-46d7-8e9c-6076b942823d",
   "metadata": {
    "tags": []
   },
   "outputs": [],
   "source": [
    "engines = [\"scipy\", \"netcdf4\", \"h5netcdf\"]\n",
    "[da.to_netcdf(f\"test-{engine}.nc\", mode=\"w\", engine=engine) for engine in engines]"
   ]
  },
  {
   "cell_type": "markdown",
   "id": "4a903c98-8f4b-4ced-8260-d13bd8a09bc7",
   "metadata": {},
   "source": [
    "#### Observe read back"
   ]
  },
  {
   "cell_type": "code",
   "execution_count": null,
   "id": "7921f383-b6c6-49ba-81ec-60e19d4de207",
   "metadata": {
    "tags": []
   },
   "outputs": [],
   "source": [
    "for engine in engines:\n",
    "    print(f\"write engine: {engine}\")\n",
    "    print(\"read engine: netcdf4\")\n",
    "    with xr.open_dataset(f\"test-{engine}.nc\", engine=\"netcdf4\") as ds:\n",
    "        display(ds.load())"
   ]
  },
  {
   "cell_type": "markdown",
   "id": "8aa077ca-6bb4-4a96-8917-070580275728",
   "metadata": {},
   "source": [
    "#### Check with ncdump"
   ]
  },
  {
   "cell_type": "code",
   "execution_count": null,
   "id": "d0c3c4b5-24f5-4a58-92e2-a0fda0f27e93",
   "metadata": {
    "tags": []
   },
   "outputs": [],
   "source": [
    "!ncdump -v strarr test-scipy.nc"
   ]
  },
  {
   "cell_type": "code",
   "execution_count": null,
   "id": "7e70e15a-4b85-44bb-b877-3dec8e508d56",
   "metadata": {
    "tags": []
   },
   "outputs": [],
   "source": [
    "!ncdump -v strarr test-netcdf4.nc"
   ]
  },
  {
   "cell_type": "code",
   "execution_count": null,
   "id": "e4f3601d-2a77-4117-8660-a1eab3464a8d",
   "metadata": {
    "tags": []
   },
   "outputs": [],
   "source": [
    "!ncdump -v strarr test-h5netcdf.nc"
   ]
  },
  {
   "cell_type": "markdown",
   "id": "0c264d38-2f45-4a79-a1c4-18f3b6d5884e",
   "metadata": {},
   "source": [
    "#### Observe HDF5-based files with h5dump"
   ]
  },
  {
   "cell_type": "code",
   "execution_count": null,
   "id": "9b8a7fd4-a49b-4013-b04a-467edf7d306d",
   "metadata": {
    "tags": []
   },
   "outputs": [],
   "source": [
    "!h5dump -d strarr test-netcdf4.nc"
   ]
  },
  {
   "cell_type": "code",
   "execution_count": null,
   "id": "6130a929-299e-4057-80c0-653296b73ff7",
   "metadata": {
    "tags": []
   },
   "outputs": [],
   "source": [
    "!h5dump -d strarr test-h5netcdf.nc"
   ]
  },
  {
   "cell_type": "markdown",
   "id": "77459c00-33f3-4925-ac73-cc6d62e6733d",
   "metadata": {
    "tags": []
   },
   "source": [
    "## Write with netcdf4 with different formats"
   ]
  },
  {
   "cell_type": "code",
   "execution_count": null,
   "id": "ba28451c-cd18-47f1-80ae-3616c7adbb36",
   "metadata": {
    "tags": []
   },
   "outputs": [],
   "source": [
    "engine = \"netcdf4\"\n",
    "formats = [\"NETCDF3_CLASSIC\", \"NETCDF3_64BIT\", \"NETCDF4_CLASSIC\", \"NETCDF4\"]\n",
    "[\n",
    "    da.to_netcdf(f\"test-{engine}-{fmt}.nc\", mode=\"w\", engine=engine, format=fmt)\n",
    "    for fmt in formats\n",
    "]"
   ]
  },
  {
   "cell_type": "markdown",
   "id": "237bd227-c646-4131-8fa0-a46139443b93",
   "metadata": {},
   "source": [
    "#### Observe Read back"
   ]
  },
  {
   "cell_type": "code",
   "execution_count": null,
   "id": "2c2e86ea-5aec-43ce-9c8d-7b405f26e8c3",
   "metadata": {
    "tags": []
   },
   "outputs": [],
   "source": [
    "for fmt in formats:\n",
    "    print(fmt)\n",
    "    with xr.open_dataset(f\"test-netcdf4-{fmt}.nc\") as ds:\n",
    "        display(ds.load())"
   ]
  },
  {
   "cell_type": "markdown",
   "id": "8a7a7d41-5402-4810-b741-d60277da59a7",
   "metadata": {},
   "source": [
    "#### Check with ncdump"
   ]
  },
  {
   "cell_type": "code",
   "execution_count": null,
   "id": "800e6d8e-55c1-46d4-b7e8-23cead474418",
   "metadata": {
    "tags": []
   },
   "outputs": [],
   "source": [
    "!ncdump -v strarr test-netcdf4-NETCDF3_CLASSIC.nc"
   ]
  },
  {
   "cell_type": "code",
   "execution_count": null,
   "id": "d43aa337-b7fe-43ed-815e-47bf3c3c95ec",
   "metadata": {
    "tags": []
   },
   "outputs": [],
   "source": [
    "!ncdump -v strarr test-netcdf4-NETCDF3_64BIT.nc"
   ]
  },
  {
   "cell_type": "code",
   "execution_count": null,
   "id": "482c4a66-9006-4ab0-808a-ada7a4f50b59",
   "metadata": {
    "tags": []
   },
   "outputs": [],
   "source": [
    "!ncdump -v strarr test-netcdf4-NETCDF4_CLASSIC.nc"
   ]
  },
  {
   "cell_type": "code",
   "execution_count": null,
   "id": "e38d717b-98ae-4433-a42b-a6d80f708a6d",
   "metadata": {
    "tags": []
   },
   "outputs": [],
   "source": [
    "!ncdump -v strarr test-netcdf4-NETCDF4.nc"
   ]
  },
  {
   "cell_type": "markdown",
   "id": "96bbe1a7-c28a-400c-8881-4000f6bcbe27",
   "metadata": {},
   "source": [
    "#### Check HDF5 based with h5dump"
   ]
  },
  {
   "cell_type": "code",
   "execution_count": null,
   "id": "637d358c-fdd0-42bb-b3dc-023fdc54a968",
   "metadata": {
    "tags": []
   },
   "outputs": [],
   "source": [
    "!h5dump -d strarr test-netcdf4-NETCDF4_CLASSIC.nc"
   ]
  },
  {
   "cell_type": "code",
   "execution_count": null,
   "id": "af504238-391b-4299-9910-ced25feeefe4",
   "metadata": {
    "tags": []
   },
   "outputs": [],
   "source": [
    "!h5dump -d strarr test-netcdf4-NETCDF4.nc"
   ]
  },
  {
   "cell_type": "markdown",
   "id": "df431dde-2d7b-4fd5-8119-2ccf0fea931f",
   "metadata": {
    "tags": []
   },
   "source": [
    "## Concat Characters (True by Default)\n",
    "\n",
    "https://github.com/pydata/xarray/issues/4452"
   ]
  },
  {
   "cell_type": "code",
   "execution_count": null,
   "id": "49825f75-0751-476f-9daa-5c46ee0e94b6",
   "metadata": {
    "tags": []
   },
   "outputs": [],
   "source": [
    "for fmt in formats:\n",
    "    print(fmt)\n",
    "    with xr.open_dataset(f\"test-netcdf4-{fmt}.nc\", concat_characters=False) as ds:\n",
    "        display(ds.load())"
   ]
  },
  {
   "cell_type": "markdown",
   "id": "fe8ed49a-6190-491d-8c57-568a7e563f76",
   "metadata": {},
   "source": [
    "# Char Arrays\n",
    "## Explicit fixed width 'S1' arrays re-encoded creating extra dimension\n",
    "https://github.com/pydata/xarray/issues/2899\n",
    "\n",
    "Related:\n",
    "\n",
    "- Set/preserve the character array dimension name https://github.com/pydata/xarray/issues/2895\n",
    "- Handle the character array dim name https://github.com/pydata/xarray/pull/2896\n",
    "- Save 'S1' array without the char_dim_name dimension https://github.com/pydata/xarray/issues/3407\n",
    "- to_netcdf from subsetted Dataset with strings loaded from char array netCDF can sometimes fail https://github.com/pydata/xarray/issues/6352"
   ]
  },
  {
   "cell_type": "markdown",
   "id": "10603927-cc93-4a41-9da7-15700d207578",
   "metadata": {},
   "source": [
    "### 2899\n",
    "\n",
    "unresolved"
   ]
  },
  {
   "cell_type": "code",
   "execution_count": null,
   "id": "759bd0dd-43bb-438b-84dd-066d96d7ca35",
   "metadata": {
    "tags": []
   },
   "outputs": [],
   "source": [
    "from collections import OrderedDict\n",
    "import xarray as xr\n",
    "import numpy as np\n",
    "\n",
    "sensor_string_np = np.zeros([12, 100], dtype=\"|S1\")\n",
    "data_vars = {}\n",
    "data_vars[\"sensorName\"] = xr.DataArray(\n",
    "    data=sensor_string_np.copy(),\n",
    "    attrs=OrderedDict(\n",
    "        [\n",
    "            (\"_FillValue\", \" \"),\n",
    "        ]\n",
    "    ),\n",
    "    name=\"sensorName\",\n",
    "    dims=(\"sensor\", \"string\"),\n",
    ")\n",
    "\n",
    "scanfile = xr.Dataset(data_vars=data_vars)\n",
    "scanfile.sensorName[0, : len(\"test\")] = np.frombuffer(\"test\".encode(), dtype=\"|S1\")\n",
    "scanfile.to_netcdf(\"test-2889.nc\")"
   ]
  },
  {
   "cell_type": "code",
   "execution_count": null,
   "id": "9b3c895a-f834-44f8-89a9-37932685383a",
   "metadata": {
    "tags": []
   },
   "outputs": [],
   "source": [
    "with xr.open_dataset(\"test-2889.nc\") as ds:\n",
    "    display(ds.load())"
   ]
  },
  {
   "cell_type": "code",
   "execution_count": null,
   "id": "97e975fc-5c82-4d18-af1a-da42bddca126",
   "metadata": {
    "tags": []
   },
   "outputs": [],
   "source": [
    "#!ncdump test-2889.nc"
   ]
  },
  {
   "cell_type": "markdown",
   "id": "571a26b1-9c91-40ba-b61e-4483503e284a",
   "metadata": {
    "tags": []
   },
   "source": [
    "### 3407\n",
    "\n",
    "has workaround"
   ]
  },
  {
   "cell_type": "code",
   "execution_count": null,
   "id": "ffe0a504-2da8-4236-a02d-ccda81a4d3de",
   "metadata": {
    "tags": []
   },
   "outputs": [],
   "source": [
    "import numpy as np\n",
    "import xarray as xr\n",
    "\n",
    "tstr = \"2019-07-25_00:00:00\"\n",
    "Times = xr.DataArray(\n",
    "    np.array([\" \".join(tstr).split()], dtype=\"S1\"), dims=[\"Time\", \"DateStrLen\"]\n",
    ")\n",
    "ds = xr.Dataset({\"Times\": Times})\n",
    "display(ds)\n",
    "ds.to_netcdf(\n",
    "    \"test-3407-01.nc\",\n",
    "    format=\"NETCDF4\",\n",
    "    encoding={\"Times\": {\"zlib\": True, \"complevel\": 5}},\n",
    "    unlimited_dims={\"Time\": True},\n",
    ")"
   ]
  },
  {
   "cell_type": "code",
   "execution_count": null,
   "id": "c91fbc05-a1ae-49b0-b4ac-842c39fe6745",
   "metadata": {
    "tags": []
   },
   "outputs": [],
   "source": [
    "with xr.open_dataset(\"test-3407-01.nc\") as ds:\n",
    "    display(ds.load())"
   ]
  },
  {
   "cell_type": "code",
   "execution_count": null,
   "id": "f9344381-e065-4125-9ac8-ce5f6fcd2e55",
   "metadata": {
    "tags": []
   },
   "outputs": [],
   "source": [
    "!ncdump test-3407-01.nc"
   ]
  },
  {
   "cell_type": "code",
   "execution_count": null,
   "id": "3cc7ec66-571b-4698-a938-602108cea827",
   "metadata": {
    "tags": []
   },
   "outputs": [],
   "source": [
    "import numpy as np\n",
    "import xarray as xr\n",
    "\n",
    "tstr = \"2019-07-25_00:00:00\"\n",
    "Times = xr.DataArray(np.array([tstr], dtype=np.dtype((\"S\", 16))), dims=[\"Time\"])\n",
    "ds = xr.Dataset({\"Times\": Times})\n",
    "ds.to_netcdf(\n",
    "    \"test-3407-02.nc\",\n",
    "    format=\"NETCDF4\",\n",
    "    encoding={\"Times\": {\"zlib\": True, \"complevel\": 5, \"char_dim_name\": \"DateStrLen\"}},\n",
    "    unlimited_dims={\"Time\": True},\n",
    ")"
   ]
  },
  {
   "cell_type": "code",
   "execution_count": null,
   "id": "d1462f19-28bd-4984-b0ed-69e4007ca449",
   "metadata": {
    "tags": []
   },
   "outputs": [],
   "source": [
    "with xr.open_dataset(\"test-3407-01.nc\") as ds:\n",
    "    display(ds.load())"
   ]
  },
  {
   "cell_type": "code",
   "execution_count": null,
   "id": "157b4c73-fd42-4520-91fd-50623ac7ec76",
   "metadata": {
    "tags": []
   },
   "outputs": [],
   "source": [
    "!ncdump test-3407-02.nc"
   ]
  },
  {
   "cell_type": "markdown",
   "id": "4bd3cb7c-160b-4a2e-ab1f-d3d469ab1eca",
   "metadata": {
    "tags": []
   },
   "source": [
    "### 6352"
   ]
  },
  {
   "cell_type": "code",
   "execution_count": null,
   "id": "3f244f22-0eaf-4947-99e4-dd73b3b83ce2",
   "metadata": {
    "tags": []
   },
   "outputs": [],
   "source": [
    "# setup\n",
    "import numpy as np\n",
    "import xarray as xr\n",
    "\n",
    "one_two = xr.DataArray(np.array([\"a\", \"aa\"], dtype=\"object\"), dims=[\"dim0\"])\n",
    "two_two = xr.DataArray(np.array([\"aa\", \"aa\"], dtype=\"object\"), dims=[\"dim0\"])\n",
    "ds = xr.Dataset({\"var0\": one_two, \"var1\": two_two})\n",
    "ds.var0.encoding[\"dtype\"] = \"S1\"\n",
    "ds.var1.encoding[\"dtype\"] = \"S1\"\n",
    "# need to write out and read back in\n",
    "ds.to_netcdf(\"test-6352-01.nc\")\n",
    "display(ds)\n",
    "\n",
    "# only selecting the shorter string will fail\n",
    "ds1 = xr.load_dataset(\"test-6352-01.nc\")\n",
    "ds1[{\"dim0\": 1}].to_netcdf(\"test-6352-ok.nc\")\n",
    "try:\n",
    "    ds1[{\"dim0\": 0}].to_netcdf(\"test-6352-error.nc\")\n",
    "except IndexError as e:\n",
    "    warnings.warn(*e.args)\n",
    "    pass\n",
    "\n",
    "# will work if the char dim name is removed from encoding of the now shorter arr\n",
    "ds1 = xr.load_dataset(\"test-6352-01.nc\")\n",
    "del ds1.var0.encoding[\"char_dim_name\"]\n",
    "ds1[{\"dim0\": 0}].to_netcdf(\"test-6352-will_work.nc\")"
   ]
  },
  {
   "cell_type": "code",
   "execution_count": null,
   "id": "ef7347f9-05d5-48a8-b6a9-742c3448edef",
   "metadata": {
    "tags": []
   },
   "outputs": [],
   "source": [
    "!ncdump test-6352-ok.nc"
   ]
  },
  {
   "cell_type": "code",
   "execution_count": null,
   "id": "05d905f4-3269-49f8-a498-8b11a3802e2f",
   "metadata": {
    "tags": []
   },
   "outputs": [],
   "source": [
    "!ncdump test-6352-error.nc"
   ]
  },
  {
   "cell_type": "code",
   "execution_count": null,
   "id": "cdc1ed7b-3dd6-4664-84ff-e25eb8576915",
   "metadata": {
    "tags": []
   },
   "outputs": [],
   "source": [
    "!ncdump test-6352-will_work.nc"
   ]
  },
  {
   "cell_type": "code",
   "execution_count": null,
   "id": "343069d5-20f8-4184-814c-1214803de59d",
   "metadata": {
    "tags": []
   },
   "outputs": [],
   "source": [
    "!h5dump test-6352-will_work.nc"
   ]
  },
  {
   "cell_type": "markdown",
   "id": "5faa8c54-5dae-44ec-a966-3b67b6424f45",
   "metadata": {
    "tags": []
   },
   "source": [
    "### concat_characters\n",
    "\n",
    "- Change default for concat_characters to False in open_* functions https://github.com/pydata/xarray/issues/4452\n",
    "- open_zarr: concat_characters has no effect when dtype=U1 https://github.com/pydata/xarray/issues/4405\n"
   ]
  },
  {
   "cell_type": "code",
   "execution_count": null,
   "id": "57aa8ef4-a4da-4ccd-9414-6a2a45dac0d2",
   "metadata": {
    "tags": []
   },
   "outputs": [],
   "source": [
    "import xarray as xr\n",
    "import numpy as np\n",
    "\n",
    "chrs = np.array(\n",
    "    [\n",
    "        [\"A\", \"B\"],\n",
    "        [\"C\", \"D\"],\n",
    "        [\"E\", \"F\"],\n",
    "    ],\n",
    "    dtype=\"S1\",\n",
    ")\n",
    "ds = xr.Dataset(dict(x=((\"dim0\", \"dim1\"), chrs)))\n",
    "with xr.set_options(display_style=\"text\"):\n",
    "    display(ds.x)\n",
    "\n",
    "ds.to_zarr(\"test-4405-01.zarr\", mode=\"w\")\n",
    "# The second dimension is lost and the values end up being concatenated\n",
    "with xr.set_options(display_style=\"text\"):\n",
    "    display(xr.open_zarr(\"test-4405.zarr\").x.compute())"
   ]
  },
  {
   "cell_type": "code",
   "execution_count": null,
   "id": "f21104ff-0739-4526-b763-b0471440a166",
   "metadata": {
    "tags": []
   },
   "outputs": [],
   "source": [
    "chrs = np.array(\n",
    "    [\n",
    "        [\"A\", \"B\"],\n",
    "        [\"C\", \"D\"],\n",
    "        [\"E\", \"F\"],\n",
    "    ],\n",
    "    dtype=\"U1\",\n",
    ")\n",
    "ds = xr.Dataset(dict(x=((\"dim0\", \"dim1\"), chrs)))\n",
    "ds.to_zarr(\"test-4405-01\", mode=\"w\")\n",
    "# No concatenation occurs\n",
    "with xr.set_options(display_style=\"text\"):\n",
    "    display(xr.open_zarr(\"test-4405-01\", concat_characters=True).x.compute())"
   ]
  },
  {
   "cell_type": "markdown",
   "id": "ed42e816-e7ce-4f51-b12e-942280739f05",
   "metadata": {},
   "source": [
    "## Chunksizes\n",
    "\n",
    "- to_netcdf broken encoding: dtype='S1' + chunksizes https://github.com/pydata/xarray/issues/2219\n"
   ]
  },
  {
   "cell_type": "code",
   "execution_count": null,
   "id": "a2713674-e4a5-47b9-8a1d-03917cee2566",
   "metadata": {
    "tags": []
   },
   "outputs": [],
   "source": [
    "xr.Dataset({\"x\": [\"foo\", \"bar\", \"baz\"]}).to_netcdf(\n",
    "    \"test-2219-01.nc\",\n",
    "    engine=\"h5netcdf\",\n",
    "    encoding={\"x\": {\"dtype\": \"S1\", \"zlib\": True, \"chunksizes\": (2,)}},\n",
    ")"
   ]
  },
  {
   "cell_type": "code",
   "execution_count": null,
   "id": "1ff44488-3b24-44e9-88aa-61a009630b2c",
   "metadata": {
    "tags": []
   },
   "outputs": [],
   "source": [
    "xr.Dataset({\"x\": [\"foo\", \"bar\", \"baz\"]}).to_netcdf(\n",
    "    \"test-2219-02.nc\",\n",
    "    engine=\"h5netcdf\",\n",
    "    encoding={\"x\": {\"dtype\": \"S1\", \"zlib\": True, \"chunksizes\": (2, 3)}},\n",
    ")"
   ]
  },
  {
   "cell_type": "markdown",
   "id": "098960ed-3e6b-45c7-b003-d253553e9695",
   "metadata": {
    "tags": []
   },
   "source": [
    "## Automatic dtype encoding in to_netcdf\n",
    "https://github.com/pydata/xarray/issues/2780"
   ]
  },
  {
   "cell_type": "code",
   "execution_count": null,
   "id": "f24ee797-81fb-491d-b615-9e37363b5c70",
   "metadata": {
    "tags": []
   },
   "outputs": [],
   "source": [
    "import pandas as pd\n",
    "import xarray as xr\n",
    "import numpy as np\n",
    "import os\n",
    "\n",
    "# Create pandas DataFrame\n",
    "df = pd.DataFrame(\n",
    "    np.random.randint(low=0, high=10, size=(100000, 5)),\n",
    "    columns=[\"a\", \"b\", \"c\", \"d\", \"e\"],\n",
    ")\n",
    "\n",
    "# Make 'e' a column of strings\n",
    "df[\"e\"] = df[\"e\"].astype(str)\n",
    "\n",
    "# Save to csv\n",
    "df.to_csv(\"test-2780-01.csv\")\n",
    "\n",
    "# Convert to an xarray's Dataset\n",
    "ds = xr.Dataset.from_dataframe(df)\n",
    "\n",
    "# Save NetCDF file\n",
    "ds.to_netcdf(\"test-2780-02.nc\")"
   ]
  },
  {
   "cell_type": "code",
   "execution_count": null,
   "id": "aaf6c1fd-97d7-46a1-af43-bde240eee688",
   "metadata": {
    "tags": []
   },
   "outputs": [],
   "source": [
    "# Compute stats\n",
    "stats1 = os.stat(\"test-2780-01.csv\")\n",
    "stats2 = os.stat(\"test-2780-02.nc\")\n",
    "print(\"csv=\", str(stats1.st_size))\n",
    "print(\"nc =\", str(stats2.st_size))\n",
    "print(\"nc/csv=\", str(stats2.st_size / stats1.st_size))"
   ]
  },
  {
   "cell_type": "markdown",
   "id": "b85355f5-5fed-40db-beb5-010686661918",
   "metadata": {},
   "source": [
    "## Netcdf char array not being decoded to string in compound dtype\n",
    "https://github.com/pydata/xarray/issues/1977\n",
    "\n",
    "Related: https://github.com/Unidata/netcdf4-python/pull/778"
   ]
  },
  {
   "cell_type": "code",
   "execution_count": null,
   "id": "4d41d625-50a2-46b6-92f2-64872e0adf39",
   "metadata": {
    "tags": []
   },
   "outputs": [],
   "source": [
    "script_nc_file = \"source/bolo_geom_fromscript.nc\"\n",
    "with xr.open_dataset(\n",
    "    script_nc_file, group=\"/bolo/sxd\", concat_characters=True, engine=\"h5netcdf\"\n",
    ") as ds:\n",
    "    ds = ds.copy(deep=True)\n",
    "da = ds.slits\n",
    "display(da.values[\"Object_type\"])\n",
    "dtype = da.dtype[0]\n",
    "print(dir(dtype))\n",
    "print(dtype.type)\n",
    "# print(dtype.subtype)\n",
    "print(dtype.kind)\n",
    "print(dtype.metadata)\n",
    "print(dtype.shape)\n",
    "print(dtype.str)\n",
    "print(dtype.descr)\n",
    "print(dtype.fields)\n",
    "print(dtype.char)\n",
    "arr_dtype = da.values[\"Object_type\"].dtype\n",
    "print(dtype.shape)\n",
    "da.values[\"Object_type\"].view(dtype=np.dtype(f\"|{arr_dtype.kind}{dtype.shape[0]}\"))"
   ]
  },
  {
   "cell_type": "code",
   "execution_count": null,
   "id": "1fcc5435-bc6f-4079-9e54-7e71019deda8",
   "metadata": {
    "tags": []
   },
   "outputs": [],
   "source": [
    "import h5netcdf\n",
    "\n",
    "with h5netcdf.File(script_nc_file) as h5:\n",
    "    print(h5[\"bolo/sxd\"][\"slits\"][\"Object_type\"].view(dtype.str))"
   ]
  },
  {
   "cell_type": "markdown",
   "id": "1956adf4-7604-4231-88b3-84e1b1ed6cb8",
   "metadata": {},
   "source": [
    "## MADIS netCDF to Pandas Dataframe: ValueError: iterator is too large\n",
    "\n",
    "https://github.com/pydata/xarray/issues/838"
   ]
  },
  {
   "cell_type": "code",
   "execution_count": null,
   "id": "db55fc56-ba34-46c6-9717-abd7e78ee623",
   "metadata": {
    "tags": []
   },
   "outputs": [],
   "source": [
    "import xarray as xr\n",
    "\n",
    "ncf = xr.open_dataset(\"source/20160430_1600.nc\", decode_cf=False)\n",
    "display(ncf)\n",
    "df = ncf.to_dataframe()"
   ]
  },
  {
   "cell_type": "markdown",
   "id": "27a6718b-3e9f-497a-9da3-d3418ef122d0",
   "metadata": {},
   "source": [
    "## netCDF4: support byte strings as attribute values\n",
    "https://github.com/pydata/xarray/issues/7186\n"
   ]
  },
  {
   "cell_type": "code",
   "execution_count": null,
   "id": "7822e68e-dd76-4679-8785-6c9663d6d63e",
   "metadata": {
    "tags": []
   },
   "outputs": [],
   "source": [
    "import numpy as np\n",
    "import xarray as xr\n",
    "\n",
    "data = np.ones([12, 10])\n",
    "ds = xr.Dataset(\n",
    "    {\"data\": ([\"x\", \"y\"], data)}, coords={\"x\": np.arange(12), \"y\": np.arange(10)}\n",
    ")\n",
    "ds[\"x\"].attrs[\"first_str\"] = \"foo\"\n",
    "ds[\"x\"].attrs[\"second_str\"] = \"bar°\"\n",
    "ds[\"x\"].attrs[\"third_str\"] = \"hää\"\n",
    "ds[\"x\"].attrs[\"workaround_str\"] = np.array(\"hää\".encode(\"utf-8\"))\n",
    "ds.to_netcdf(\"test-7186.nc\")"
   ]
  },
  {
   "cell_type": "code",
   "execution_count": null,
   "id": "99086c8e-6834-493f-b252-b05b1f6b9c58",
   "metadata": {
    "tags": []
   },
   "outputs": [],
   "source": [
    "!ncdump test-7186.nc"
   ]
  },
  {
   "cell_type": "markdown",
   "id": "463acab7-425f-4d5f-92c8-ff6d7e91cb30",
   "metadata": {},
   "source": [
    "## dataset attrs list of strings to_netcdf() error\n",
    "https://github.com/pydata/xarray/issues/7608\n",
    "\n",
    "Related https://github.com/pydata/xarray/issues/3374\n",
    "\n",
    "netcdf-3 vs netcdf-4 problem"
   ]
  },
  {
   "cell_type": "code",
   "execution_count": null,
   "id": "1e0d9e53-6e2b-40cc-8b45-54de89d94961",
   "metadata": {
    "tags": []
   },
   "outputs": [],
   "source": [
    "import xarray as xr\n",
    "import pandas as pd\n",
    "import numpy as np\n",
    "\n",
    "ds = xr.Dataset()\n",
    "\n",
    "temp = 15 + 8 * np.random.randn(2, 2, 3)\n",
    "\n",
    "precip = 10 * np.random.rand(2, 2, 3)\n",
    "\n",
    "lon = [[-99.83, -99.32], [-99.79, -99.23]]\n",
    "\n",
    "lat = [[42.25, 42.21], [42.63, 42.59]]\n",
    "\n",
    "ds[\"temperature\"] = ((\"x\", \"y\", \"time\"), temp)\n",
    "\n",
    "ds[\"temperature_double\"] = ((\"x\", \"y\", \"time\"), temp * 2)\n",
    "\n",
    "ds[\"precipitation\"] = ((\"x\", \"y\", \"time\"), precip)\n",
    "\n",
    "ds.coords[\"lat\"] = ((\"x\", \"y\"), lat)\n",
    "\n",
    "ds.coords[\"lon\"] = ((\"x\", \"y\"), lon)\n",
    "\n",
    "ds.coords[\"time\"] = pd.date_range(\"2014-09-06\", periods=3)\n",
    "\n",
    "ds.coords[\"reference_time\"] = pd.Timestamp(\"2014-09-05\")\n",
    "\n",
    "ds.attrs[\"test\"] = [1, 2, 3]\n",
    "ds.to_netcdf(\"test-7608-01.nc\")\n",
    "# no error\n",
    "\n",
    "ds.attrs[\"test\"] = [\"11\", \"12\", \"13\"]\n",
    "ds.to_netcdf(\"test-7608-02.nc\")"
   ]
  },
  {
   "cell_type": "markdown",
   "id": "a54f3f86-0b66-4bfd-b9bd-18fe90890ee4",
   "metadata": {},
   "source": [
    "## Volatile error: unsupported dtype for netCDF4 variable: object\n",
    "\n",
    "https://github.com/pydata/xarray/issues/2404"
   ]
  },
  {
   "cell_type": "code",
   "execution_count": null,
   "id": "ec523a2b-357c-4583-919f-2e305d37ad5e",
   "metadata": {
    "tags": []
   },
   "outputs": [],
   "source": [
    "import pandas as pd\n",
    "import numpy as np\n",
    "import xarray as xr  # xr.__version --> 0.13.0\n",
    "import os\n",
    "import itertools\n",
    "\n",
    "# make a multi index (where one level is np.str_ type)\n",
    "x = list(np.array([np.str_(\"idx_%i\") % i for i in range(1, 11)], dtype=np.str_))\n",
    "y = list(np.arange(10))\n",
    "combo = list(itertools.product(x, y))\n",
    "x, y = zip(*combo)\n",
    "\n",
    "# the below is an odd way to construct a DataFrame, but the np.str_ type is preserved if done this way\n",
    "data_df = np.random.randn(len(x))\n",
    "df = pd.DataFrame(data=data_df, columns=[\"test\"])\n",
    "df[\"x\"] = x\n",
    "df[\"y\"] = y\n",
    "df = df.set_index([\"x\", \"y\"])\n",
    "ds = xr.Dataset.from_dataframe(df)\n",
    "display(ds)"
   ]
  },
  {
   "cell_type": "code",
   "execution_count": null,
   "id": "03479fb2-a37e-48d7-8a88-5d2d844e3d00",
   "metadata": {
    "tags": []
   },
   "outputs": [],
   "source": [
    "type(ds.coords[\"x\"].values[0])"
   ]
  },
  {
   "cell_type": "code",
   "execution_count": null,
   "id": "47f49545-5f0f-4b78-9b1d-8e4fb4136f1f",
   "metadata": {
    "tags": []
   },
   "outputs": [],
   "source": [
    "ds.to_netcdf(\"test-2404.nc\")"
   ]
  },
  {
   "cell_type": "code",
   "execution_count": null,
   "id": "91a0ff75-aee4-478f-9679-ad9e084452bc",
   "metadata": {
    "tags": []
   },
   "outputs": [],
   "source": [
    "with xr.open_dataset(\"test-2404.nc\") as ds:\n",
    "    display(ds)"
   ]
  },
  {
   "cell_type": "code",
   "execution_count": null,
   "id": "5f43717f-72ae-4f89-ba5e-2db4f62bf408",
   "metadata": {
    "tags": []
   },
   "outputs": [],
   "source": [
    "!ncdump test-2404.nc"
   ]
  },
  {
   "cell_type": "code",
   "execution_count": null,
   "id": "7c6db908-0435-49a9-8214-1541e176b2c1",
   "metadata": {},
   "outputs": [],
   "source": []
  }
 ],
 "metadata": {
  "kernelspec": {
   "display_name": "Python 3 (ipykernel)",
   "language": "python",
   "name": "python3"
  },
  "language_info": {
   "codemirror_mode": {
    "name": "ipython",
    "version": 3
   },
   "file_extension": ".py",
   "mimetype": "text/x-python",
   "name": "python",
   "nbconvert_exporter": "python",
   "pygments_lexer": "ipython3",
   "version": "3.11.0"
  }
 },
 "nbformat": 4,
 "nbformat_minor": 5
}
